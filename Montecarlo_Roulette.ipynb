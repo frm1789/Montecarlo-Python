{
  "nbformat": 4,
  "nbformat_minor": 0,
  "metadata": {
    "colab": {
      "provenance": [],
      "authorship_tag": "ABX9TyNinnbshQwP6wVCn8wNI3FT",
      "include_colab_link": true
    },
    "kernelspec": {
      "name": "python3",
      "display_name": "Python 3"
    },
    "language_info": {
      "name": "python"
    }
  },
  "cells": [
    {
      "cell_type": "markdown",
      "metadata": {
        "id": "view-in-github",
        "colab_type": "text"
      },
      "source": [
        "<a href=\"https://colab.research.google.com/github/frm1789/Montecarlo-Python/blob/main/Montecarlo_Roulette.ipynb\" target=\"_parent\"><img src=\"https://colab.research.google.com/assets/colab-badge.svg\" alt=\"Open In Colab\"/></a>"
      ]
    },
    {
      "cell_type": "markdown",
      "source": [
        "# Montecarlo Roulette\n",
        "\n",
        "This roulette game was adapted from Prof. John Guttag MIT class."
      ],
      "metadata": {
        "id": "DBTm1L7yjn_1"
      }
    },
    {
      "cell_type": "markdown",
      "source": [
        "## 1) Getting the libraries"
      ],
      "metadata": {
        "id": "hXc-giMFRypJ"
      }
    },
    {
      "cell_type": "code",
      "execution_count": 10,
      "metadata": {
        "id": "gXVY-JG9RNdp"
      },
      "outputs": [],
      "source": [
        "import numpy as np  # For the sum command\n",
        "import random"
      ]
    },
    {
      "cell_type": "markdown",
      "source": [
        "## 2) Setting the variables"
      ],
      "metadata": {
        "id": "cVecSxZlRXSx"
      }
    },
    {
      "cell_type": "code",
      "source": [
        "# Set up an array that holds the colors\n",
        "roulette = list(range(1, 37))\n",
        "print(roulette)"
      ],
      "metadata": {
        "colab": {
          "base_uri": "https://localhost:8080/"
        },
        "id": "zqxb-XCDRaVL",
        "outputId": "9ae24bc8-36a5-463e-ef03-d8702ab3e5a0"
      },
      "execution_count": 4,
      "outputs": [
        {
          "output_type": "stream",
          "name": "stdout",
          "text": [
            "[1, 2, 3, 4, 5, 6, 7, 8, 9, 10, 11, 12, 13, 14, 15, 16, 17, 18, 19, 20, 21, 22, 23, 24, 25, 26, 27, 28, 29, 30, 31, 32, 33, 34, 35, 36]\n"
          ]
        }
      ]
    },
    {
      "cell_type": "markdown",
      "source": [
        "## 3) Creating the basic function"
      ],
      "metadata": {
        "id": "-RJY9WzfR3xx"
      }
    },
    {
      "cell_type": "code",
      "source": [
        "def returns(ball, my_number, bet, odds):\n",
        "    if ball == my_number:\n",
        "        return bet * (odds - 1)\n",
        "    else:\n",
        "        return -bet"
      ],
      "metadata": {
        "id": "odL-H2xVRf1q"
      },
      "execution_count": 5,
      "outputs": []
    },
    {
      "cell_type": "code",
      "source": [
        "def play_roulette(number_of_spins, my_number, bet):\n",
        "    # Define roulette as a list ranging from 1 to 36\n",
        "    roulette = list(range(1, 37))\n",
        "\n",
        "    # The reward is the size of the roulette\n",
        "    odds = len(roulette)\n",
        "\n",
        "    my_return = 0\n",
        "\n",
        "    for i in range(number_of_spins):\n",
        "        ball = random.choice(roulette)\n",
        "        my_return += returns(ball, my_number, bet, odds)\n",
        "\n",
        "    print(f'Average return after {number_of_spins} spins: {my_return / number_of_spins:.2}')"
      ],
      "metadata": {
        "id": "Ky9nDZ3fjjA_"
      },
      "execution_count": 8,
      "outputs": []
    },
    {
      "cell_type": "markdown",
      "source": [
        "## 3) Apply Montecarlo"
      ],
      "metadata": {
        "id": "7HsQkDWaj5zm"
      }
    },
    {
      "cell_type": "code",
      "source": [
        "# my_number can be any number between 1 and 36\n",
        "my_number = 2 \n",
        "bet = 1\n",
        "\n",
        "# First game, 100 spins, repeating them 3 times\n",
        "number_of_spins = 100\n",
        "repeat = 3\n",
        "for i in range(repeat):\n",
        "    play_roulette(number_of_spins, my_number, bet)"
      ],
      "metadata": {
        "colab": {
          "base_uri": "https://localhost:8080/"
        },
        "id": "sfSfnsANj-2Z",
        "outputId": "76b3a3dd-ac41-4779-c195-3074efebdfc4"
      },
      "execution_count": 11,
      "outputs": [
        {
          "output_type": "stream",
          "name": "stdout",
          "text": [
            "Average return after 100 spins: -0.28\n",
            "Average return after 100 spins: -0.28\n",
            "Average return after 100 spins: 0.08\n"
          ]
        }
      ]
    },
    {
      "cell_type": "markdown",
      "source": [
        "New game, 1000000 spins, repeating them 3 times"
      ],
      "metadata": {
        "id": "JKNBf84enkJL"
      }
    },
    {
      "cell_type": "code",
      "source": [
        "number_of_spins = 1000000\n",
        "repeat = 3\n",
        "for i in range(repeat):\n",
        "    play_roulette(number_of_spins, my_number, bet)"
      ],
      "metadata": {
        "colab": {
          "base_uri": "https://localhost:8080/"
        },
        "id": "JCaZl3EvnYS2",
        "outputId": "048ea80b-0a40-4d8f-d193-546d32ff8156"
      },
      "execution_count": 13,
      "outputs": [
        {
          "output_type": "stream",
          "name": "stdout",
          "text": [
            "Average return after 1000000 spins: -0.0062\n",
            "Average return after 1000000 spins: -0.0056\n",
            "Average return after 1000000 spins: -0.00093\n"
          ]
        }
      ]
    },
    {
      "cell_type": "markdown",
      "source": [
        "## 4) Conclusion\n",
        "For a larger number of games the average return is close to 0 and the results are similar for the 3 days! \n"
      ],
      "metadata": {
        "id": "ZHiZDGUVn_P_"
      }
    },
    {
      "cell_type": "markdown",
      "source": [],
      "metadata": {
        "id": "TPuYk9JOjmlr"
      }
    }
  ]
}