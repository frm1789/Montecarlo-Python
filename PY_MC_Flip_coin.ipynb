{
  "nbformat": 4,
  "nbformat_minor": 0,
  "metadata": {
    "colab": {
      "provenance": [],
      "authorship_tag": "ABX9TyPw76W4OD80HHonRUVyi1zy",
      "include_colab_link": true
    },
    "kernelspec": {
      "name": "python3",
      "display_name": "Python 3"
    },
    "language_info": {
      "name": "python"
    }
  },
  "cells": [
    {
      "cell_type": "markdown",
      "metadata": {
        "id": "view-in-github",
        "colab_type": "text"
      },
      "source": [
        "<a href=\"https://colab.research.google.com/github/frm1789/Montecarlo-Python/blob/main/PY_MC_Flip_coin.ipynb\" target=\"_parent\"><img src=\"https://colab.research.google.com/assets/colab-badge.svg\" alt=\"Open In Colab\"/></a>"
      ]
    },
    {
      "cell_type": "code",
      "execution_count": 1,
      "metadata": {
        "id": "u2AU1U8mTFmZ"
      },
      "outputs": [],
      "source": [
        "from tabulate import tabulate\n",
        "import random\n",
        "import numpy as np\n",
        "import matplotlib.pyplot as plt\n"
      ]
    },
    {
      "cell_type": "code",
      "source": [
        "def coin_flip():\n",
        "  return(np.random.randint(0,2))\n"
      ],
      "metadata": {
        "id": "BXcF_RPUILQj"
      },
      "execution_count": 2,
      "outputs": []
    },
    {
      "cell_type": "code",
      "source": [
        "list_prob_values = []\n",
        "list_flip_results = []\n",
        "list_results = []\n",
        "list_prob_value = []\n",
        "\n",
        "def montecarlo(n):\n",
        " results = 0 \n",
        " for i in range(n):\n",
        "   flip_results = coin_flip()\n",
        "   list_flip_results.append(flip_results)\n",
        "   results = results + flip_results\n",
        "   list_results.append(results)\n",
        "\n",
        "   #Getting the prob value\n",
        "   prob_value = results / (i + 1)\n",
        "   list_prob_values.append(prob_value)\n",
        "\n",
        "   #Plotting the results\n",
        "   plt.xlabel(\"Iterations\")\n",
        "   plt.ylabel(\"Probability\")\n",
        "   plt.plot(list_prob_values)\n",
        "\n",
        " return(results/n)  "
      ],
      "metadata": {
        "id": "-Ygu7llhTvkW"
      },
      "execution_count": 3,
      "outputs": []
    },
    {
      "cell_type": "code",
      "source": [
        "print(\"Case 1: Montecarlo with 10 executions\")\n",
        "answer = montecarlo(10)\n"
      ],
      "metadata": {
        "colab": {
          "base_uri": "https://localhost:8080/"
        },
        "id": "5Qoe80VcUzHm",
        "outputId": "0dac72bb-6881-436b-dae4-756c15649464"
      },
      "execution_count": 4,
      "outputs": [
        {
          "output_type": "stream",
          "name": "stdout",
          "text": [
            "Case 1: Montecarlo with 10 executions\n"
          ]
        },
        {
          "output_type": "display_data",
          "data": {
            "text/plain": [
              "<Figure size 432x288 with 1 Axes>"
            ],
            "image/png": "[encoded data removed]"
          },
          "metadata": {
            "needs_background": "light"
          }
        }
      ]
    },
    {
      "cell_type": "code",
      "source": [
        "print(tabulate(list_results, headers='firstrow', tablefmt='fancy_grid'))\n",
        "print(\"Final value:\", answer)"
      ],
      "metadata": {
        "id": "fRB5CUsT6rIS"
      },
      "execution_count": null,
      "outputs": []
    },
    {
      "cell_type": "code",
      "source": [
        "answer = montecarlo(100)\n",
        "print(\"Final value:\", answer)"
      ],
      "metadata": {
        "id": "Flcc81vUVeBd"
      },
      "execution_count": null,
      "outputs": []
    }
  ]
}