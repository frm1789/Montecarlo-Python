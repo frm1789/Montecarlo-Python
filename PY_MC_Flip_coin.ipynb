{
  "nbformat": 4,
  "nbformat_minor": 0,
  "metadata": {
    "colab": {
      "provenance": [],
      "authorship_tag": "ABX9TyPZITRhsvMirIOingepN5M2",
      "include_colab_link": true
    },
    "kernelspec": {
      "name": "python3",
      "display_name": "Python 3"
    },
    "language_info": {
      "name": "python"
    }
  },
  "cells": [
    {
      "cell_type": "markdown",
      "metadata": {
        "id": "view-in-github",
        "colab_type": "text"
      },
      "source": [
        "<a href=\"https://colab.research.google.com/github/frm1789/Montecarlo-Python/blob/main/PY_MC_Flip_coin.ipynb\" target=\"_parent\"><img src=\"https://colab.research.google.com/assets/colab-badge.svg\" alt=\"Open In Colab\"/></a>"
      ]
    },
    {
      "cell_type": "code",
      "execution_count": 1,
      "metadata": {
        "id": "u2AU1U8mTFmZ"
      },
      "outputs": [],
      "source": [
        "import random\n",
        "import numpy as np\n",
        "import matplotlib.pyplot as plt\n"
      ]
    },
    {
      "cell_type": "code",
      "source": [
        "def coin_flip():\n",
        "  return random.randint(0,1)"
      ],
      "metadata": {
        "id": "O6VSsK1pTo9n"
      },
      "execution_count": 2,
      "outputs": []
    },
    {
      "cell_type": "code",
      "source": [
        "list_prob_values = []\n",
        "\n",
        "def montecarlo(n):\n",
        " results = 0 \n",
        " for i in range(n):\n",
        "   flip_results = coin_flip()\n",
        "   results = results + flip_results\n",
        "\n",
        "   #Getting the prob value\n",
        "   prob_value = results / (i + 1)\n",
        "\n",
        "   #Adding the probability value to the list\n",
        "   list_prob_values.append(prob_value)\n",
        "\n",
        "   #Plotting the results\n",
        "   plt.xlabel(\"Iterations\")\n",
        "   plt.ylabel(\"Probability\")\n",
        "   plt.plot(list_prob_values)\n",
        "\n",
        " return(results/n)  "
      ],
      "metadata": {
        "id": "-Ygu7llhTvkW"
      },
      "execution_count": 5,
      "outputs": []
    },
    {
      "cell_type": "code",
      "source": [
        "answer = montecarlo(10)\n",
        "print(\"Final value:\", answer)"
      ],
      "metadata": {
        "colab": {
          "base_uri": "https://localhost:8080/"
        },
        "id": "5Qoe80VcUzHm",
        "outputId": "6e1e34fc-472f-4cab-d4b1-3ae2949153d5"
      },
      "execution_count": 6,
      "outputs": [
        {
          "output_type": "stream",
          "name": "stdout",
          "text": [
            "Final value: 0.7\n"
          ]
        },
        {
          "output_type": "display_data",
          "data": {
            "text/plain": [
              "<Figure size 432x288 with 1 Axes>"
            ],
            "image/png": "[encoded data removed]"
          },
          "metadata": {
            "needs_background": "light"
          }
        }
      ]
    }
  ]
}