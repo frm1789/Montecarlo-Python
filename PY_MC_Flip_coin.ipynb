{
  "nbformat": 4,
  "nbformat_minor": 0,
  "metadata": {
    "colab": {
      "provenance": [],
      "authorship_tag": "ABX9TyNYBEB+vOEHm0ocVKXpHgUr",
      "include_colab_link": true
    },
    "kernelspec": {
      "name": "python3",
      "display_name": "Python 3"
    },
    "language_info": {
      "name": "python"
    }
  },
  "cells": [
    {
      "cell_type": "markdown",
      "metadata": {
        "id": "view-in-github",
        "colab_type": "text"
      },
      "source": [
        "<a href=\"https://colab.research.google.com/github/frm1789/Montecarlo-Python/blob/main/PY_MC_Flip_coin.ipynb\" target=\"_parent\"><img src=\"https://colab.research.google.com/assets/colab-badge.svg\" alt=\"Open In Colab\"/></a>"
      ]
    },
    {
      "cell_type": "code",
      "execution_count": 1,
      "metadata": {
        "id": "u2AU1U8mTFmZ"
      },
      "outputs": [],
      "source": [
        "import random\n",
        "import numpy as np\n",
        "import matplotlib.pyplot as plt\n"
      ]
    },
    {
      "cell_type": "code",
      "source": [
        "def coin_flip():\n",
        "  return random.randint(0,1)"
      ],
      "metadata": {
        "id": "O6VSsK1pTo9n"
      },
      "execution_count": 2,
      "outputs": []
    },
    {
      "cell_type": "code",
      "source": [
        "list_prob_values = []\n",
        "\n",
        "def montecarlo(n):\n",
        " results = 0 \n",
        " for i in range(n):\n",
        "   flip_results = coin_flip()\n",
        "   print(\"flip_results: \", flip_results)\n",
        "   results = results + flip_results\n",
        "   print(\"results: \", results)\n",
        "\n",
        "   #Getting the prob value\n",
        "   prob_value = results / (i + 1)\n",
        "   print(\"prob_value: \", prob_value) \n",
        "\n",
        "   #Adding the probability value to the list\n",
        "   list_prob_values.append(prob_value)\n",
        "\n",
        "   #Plotting the results\n",
        "   plt.xlabel(\"Iterations\")\n",
        "   plt.ylabel(\"Probability\")\n",
        "   plt.plot(list_prob_values)\n",
        "\n",
        " return(results/n)  "
      ],
      "metadata": {
        "id": "-Ygu7llhTvkW"
      },
      "execution_count": 9,
      "outputs": []
    },
    {
      "cell_type": "code",
      "source": [
        "answer = montecarlo(10)\n",
        "print(\"Final value:\", answer)"
      ],
      "metadata": {
        "colab": {
          "base_uri": "https://localhost:8080/"
        },
        "id": "5Qoe80VcUzHm",
        "outputId": "3ecf1311-4c3c-42b0-a8dd-238f13b6d912"
      },
      "execution_count": 8,
      "outputs": [
        {
          "output_type": "stream",
          "name": "stdout",
          "text": [
            "flip_results:  0\n",
            "results:  0\n",
            "0.0\n",
            "flip_results:  1\n",
            "results:  1\n",
            "0.5\n",
            "flip_results:  0\n",
            "results:  1\n",
            "0.3333333333333333\n",
            "flip_results:  1\n",
            "results:  2\n",
            "0.5\n",
            "flip_results:  0\n",
            "results:  2\n",
            "0.4\n",
            "flip_results:  0\n",
            "results:  2\n",
            "0.3333333333333333\n",
            "flip_results:  0\n",
            "results:  2\n",
            "0.2857142857142857\n",
            "flip_results:  1\n",
            "results:  3\n",
            "0.375\n",
            "flip_results:  1\n",
            "results:  4\n",
            "0.4444444444444444\n",
            "flip_results:  1\n",
            "results:  5\n",
            "0.5\n",
            "Final value: 0.5\n"
          ]
        },
        {
          "output_type": "display_data",
          "data": {
            "text/plain": [
              "<Figure size 432x288 with 1 Axes>"
            ],
            "image/png": "[encoded data removed]"
          },
          "metadata": {
            "needs_background": "light"
          }
        }
      ]
    },
    {
      "cell_type": "code",
      "source": [
        "answer = montecarlo(100)\n",
        "print(\"Final value:\", answer)"
      ],
      "metadata": {
        "id": "Flcc81vUVeBd"
      },
      "execution_count": null,
      "outputs": []
    }
  ]
}