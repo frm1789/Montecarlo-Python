{
  "nbformat": 4,
  "nbformat_minor": 0,
  "metadata": {
    "colab": {
      "provenance": [],
      "authorship_tag": "ABX9TyMIaN3N3QdZvAyY2eZpl/VK",
      "include_colab_link": true
    },
    "kernelspec": {
      "name": "python3",
      "display_name": "Python 3"
    },
    "language_info": {
      "name": "python"
    }
  },
  "cells": [
    {
      "cell_type": "markdown",
      "metadata": {
        "id": "view-in-github",
        "colab_type": "text"
      },
      "source": [
        "<a href=\"https://colab.research.google.com/github/frm1789/Montecarlo-Python/blob/main/Var_for_Game.ipynb\" target=\"_parent\"><img src=\"https://colab.research.google.com/assets/colab-badge.svg\" alt=\"Open In Colab\"/></a>"
      ]
    },
    {
      "cell_type": "markdown",
      "source": [
        "One of the thing that I like the most when you need to learn a new concept is looking for the simpliest idea where to applied, so, the focus is in learning the concept without any complicated calculation.\n",
        "\n",
        "## What is the VAR?\n",
        "\n",
        "VaR can be thought of as the amount of money an investor might expect to lose, with a certain level of confidence, if they make a certain investment.\n",
        "\n",
        "## A simple example\n",
        "For example, if an investor has a VaR of $10,000 with a 95% confidence level, it means that there is a 5% chance that the investor will lose more than $10,000 in a day from their investment. VaR is a useful tool for investors to understand and manage the potential risks of their investments.\n",
        "\n",
        "## A more formal definition of VaR\n",
        "Value at Risk (VaR) is a measure of risk in finance and investing. It represents an estimate of the maximum loss that an investment could suffer over a given time period (usually a day), with a specified level of confidence (e.g. 95% or 99%).\n",
        "\n",
        "## A simple example in Python\n",
        "You're playing a game where you pay $1 every time to flip a coin. \n",
        "If you get heads, you win $1, but if you get tails, you lose $1. You plan to play the game 10 times.\n",
        "\n",
        "How much many you need to cover your \"possible\" losses?\n"
      ],
      "metadata": {
        "id": "IC4SVTD1E5kz"
      }
    },
    {
      "cell_type": "code",
      "execution_count": 3,
      "metadata": {
        "colab": {
          "base_uri": "https://localhost:8080/"
        },
        "id": "nIRZjjr6E4pW",
        "outputId": "40733b80-bcda-43a4-cd8d-5b0177efface"
      },
      "outputs": [
        {
          "output_type": "stream",
          "name": "stdout",
          "text": [
            "Value at Risk (VAR) with 99.9% of Confidence: 1.32\n"
          ]
        }
      ],
      "source": [
        "import numpy as np\n",
        "\n",
        "# Parameters\n",
        "EV = 10 * 0.5 # EV of winnings = number of flips * expected value of each flip\n",
        "z = 2.326 # standard normal quantile corresponding to the desired confidence level (99.9%)\n",
        "SD = np.sqrt(10 * 0.5 * (1 - 0.5)) # standard deviation of winnings\n",
        "\n",
        "# Calculation\n",
        "VAR = round(EV - z * SD,2)\n",
        "print(\"Value at Risk (VAR) with 99.9% of Confidence:\", VAR)\n",
        "\n",
        "\n"
      ]
    }
  ]
}