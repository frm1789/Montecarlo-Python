{
  "nbformat": 4,
  "nbformat_minor": 0,
  "metadata": {
    "colab": {
      "provenance": [],
      "authorship_tag": "ABX9TyPG4F6ZfkNiYY0RO+FdARmd",
      "include_colab_link": true
    },
    "kernelspec": {
      "name": "python3",
      "display_name": "Python 3"
    },
    "language_info": {
      "name": "python"
    }
  },
  "cells": [
    {
      "cell_type": "markdown",
      "metadata": {
        "id": "view-in-github",
        "colab_type": "text"
      },
      "source": [
        "<a href=\"https://colab.research.google.com/github/frm1789/Montecarlo-Python/blob/main/Box_Muller_Calculator.ipynb\" target=\"_parent\"><img src=\"https://colab.research.google.com/assets/colab-badge.svg\" alt=\"Open In Colab\"/></a>"
      ]
    },
    {
      "cell_type": "markdown",
      "source": [
        "## The Box Muller Transformation\n",
        "\n",
        "This is the code to calculate the first value of Box-Muller series based in other two initial numbers. \n",
        "\n",
        "After some calculation by hand to understand how the method works.\n",
        "\n",
        "Very similar code, since all the code are based in the same mathematical form can be found in https://glowingpython.blogspot.com/2013/01/box-muller-transformation.html\n"
      ],
      "metadata": {
        "id": "GC5PBdgT_Tf7"
      }
    },
    {
      "cell_type": "code",
      "execution_count": 2,
      "metadata": {
        "colab": {
          "base_uri": "https://localhost:8080/"
        },
        "id": "LAvUUZdx_Pk4",
        "outputId": "522e5d7b-50c9-4d1d-e706-e72b038ed647"
      },
      "outputs": [
        {
          "output_type": "stream",
          "name": "stdout",
          "text": [
            "-0.2435915141428041\n",
            "0.4430913193207308\n"
          ]
        }
      ],
      "source": [
        "from numpy import random, sqrt, log, sin, cos, pi\n",
        "\n",
        "def box_muller(u1,u2):\n",
        "  z1 = sqrt(-2*log(u1))*cos(2*pi*u2)\n",
        "  z2 = sqrt(-2*log(u1))*sin(2*pi*u2)\n",
        "  return z1,z2\n",
        "\n",
        "u1 = 0.88\n",
        "u2 = 0.33\n",
        "\n",
        "# run the transformation\n",
        "z1,z2 = box_muller(u1,u2)\n",
        "print(z1)\n",
        "print(z2)"
      ]
    },
    {
      "cell_type": "code",
      "source": [],
      "metadata": {
        "id": "ctQqmzs4FqjL"
      },
      "execution_count": null,
      "outputs": []
    }
  ]
}