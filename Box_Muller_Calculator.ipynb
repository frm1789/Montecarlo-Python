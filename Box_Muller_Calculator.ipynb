{
  "nbformat": 4,
  "nbformat_minor": 0,
  "metadata": {
    "colab": {
      "provenance": [],
      "authorship_tag": "ABX9TyNJmz+0QNgzxAxiJZNdVJFA",
      "include_colab_link": true
    },
    "kernelspec": {
      "name": "python3",
      "display_name": "Python 3"
    },
    "language_info": {
      "name": "python"
    }
  },
  "cells": [
    {
      "cell_type": "markdown",
      "metadata": {
        "id": "view-in-github",
        "colab_type": "text"
      },
      "source": [
        "<a href=\"https://colab.research.google.com/github/frm1789/Montecarlo-Python/blob/main/Box_Muller_Calculator.ipynb\" target=\"_parent\"><img src=\"https://colab.research.google.com/assets/colab-badge.svg\" alt=\"Open In Colab\"/></a>"
      ]
    },
    {
      "cell_type": "markdown",
      "source": [
        "## The Box Muller Transformation\n",
        "\n",
        "Even when it is pretty simple calculate the first value of Box-Muller series based in other two, I consider that someone could need it. \n",
        "\n",
        "After some calculation by hand to understand how the method works, I found this very handy code from https://glowingpython.blogspot.com/2013/01/box-muller-transformation.html\n"
      ],
      "metadata": {
        "id": "GC5PBdgT_Tf7"
      }
    },
    {
      "cell_type": "code",
      "execution_count": 15,
      "metadata": {
        "colab": {
          "base_uri": "https://localhost:8080/"
        },
        "id": "LAvUUZdx_Pk4",
        "outputId": "65165c9e-bf12-4b03-b646-e0136954249b"
      },
      "outputs": [
        {
          "output_type": "stream",
          "name": "stdout",
          "text": [
            "-1.051940034806597\n",
            "0.13289093075969513\n"
          ]
        }
      ],
      "source": [
        "from numpy import random, sqrt, log, sin, cos, pi\n",
        "from pylab import show,hist,subplot,figure\n",
        "\n",
        "# transformation function\n",
        "def gaussian(u1,u2):\n",
        "  z1 = sqrt(-2*log(u1))*cos(2*pi*u2)\n",
        "  z2 = sqrt(-2*log(u1))*sin(2*pi*u2)\n",
        "  return z1,z2\n",
        "\n",
        "# uniformly distributed values between 0 and 1\n",
        "u1 = 0.88\n",
        "u2 = 0.33\n",
        "\n",
        "# run the transformation\n",
        "z1,z2 = gaussian(u1,u2)\n",
        "print(z1)\n",
        "print(z2)"
      ]
    },
    {
      "cell_type": "code",
      "source": [],
      "metadata": {
        "id": "ctQqmzs4FqjL"
      },
      "execution_count": null,
      "outputs": []
    }
  ]
}