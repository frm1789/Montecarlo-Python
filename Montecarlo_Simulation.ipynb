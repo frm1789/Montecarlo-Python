{
  "nbformat": 4,
  "nbformat_minor": 0,
  "metadata": {
    "colab": {
      "provenance": [],
      "authorship_tag": "ABX9TyOWRilJhGG/Ke8LMR/VOnTO",
      "include_colab_link": true
    },
    "kernelspec": {
      "name": "python3",
      "display_name": "Python 3"
    },
    "language_info": {
      "name": "python"
    }
  },
  "cells": [
    {
      "cell_type": "markdown",
      "metadata": {
        "id": "view-in-github",
        "colab_type": "text"
      },
      "source": [
        "<a href=\"https://colab.research.google.com/github/frm1789/Montecarlo-Python/blob/main/Montecarlo_Simulation.ipynb\" target=\"_parent\"><img src=\"https://colab.research.google.com/assets/colab-badge.svg\" alt=\"Open In Colab\"/></a>"
      ]
    },
    {
      "cell_type": "markdown",
      "source": [
        "## 1) Getting the libraries"
      ],
      "metadata": {
        "id": "hXc-giMFRypJ"
      }
    },
    {
      "cell_type": "code",
      "execution_count": 1,
      "metadata": {
        "id": "gXVY-JG9RNdp"
      },
      "outputs": [],
      "source": [
        "import numpy as np  # For the sum command\n",
        "import numpy.random as rand\n",
        "import matplotlib.pyplot as plt\n",
        "from scipy.stats import norm\n",
        "from scipy.stats import normaltest"
      ]
    },
    {
      "cell_type": "markdown",
      "source": [
        "## 2) Setting the variables"
      ],
      "metadata": {
        "id": "cVecSxZlRXSx"
      }
    },
    {
      "cell_type": "code",
      "source": [
        "# Set up an array that holds the colors\n",
        "Roulette = [ \"0\", \"R\", \"B\", \"R\", \"R\", \"B\", \"R\", \"B\", \"B\", \"B\", \"R\", \"R\", \"B\", \n",
        "            \"R\", \"B\", \"B\", \"B\", \"B\", \"R\", \"B\", \"R\", \"R\", \"B\", \"R\", \"B\", \"R\", \n",
        "            \"R\", \"B\", \"R\", \"B\", \"R\", \"B\", \"R\", \"R\", \"B\", \"R\", \"B\"]"
      ],
      "metadata": {
        "id": "zqxb-XCDRaVL"
      },
      "execution_count": 2,
      "outputs": []
    },
    {
      "cell_type": "markdown",
      "source": [
        "## 3) Creating the basic function"
      ],
      "metadata": {
        "id": "-RJY9WzfR3xx"
      }
    },
    {
      "cell_type": "code",
      "source": [],
      "metadata": {
        "id": "odL-H2xVRf1q"
      },
      "execution_count": 3,
      "outputs": []
    }
  ]
}