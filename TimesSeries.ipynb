{
  "nbformat": 4,
  "nbformat_minor": 0,
  "metadata": {
    "colab": {
      "provenance": [],
      "authorship_tag": "ABX9TyNFSPeiZ1pQQoKQ2FuJIHZy",
      "include_colab_link": true
    },
    "kernelspec": {
      "name": "python3",
      "display_name": "Python 3"
    },
    "language_info": {
      "name": "python"
    }
  },
  "cells": [
    {
      "cell_type": "markdown",
      "metadata": {
        "id": "view-in-github",
        "colab_type": "text"
      },
      "source": [
        "<a href=\"https://colab.research.google.com/github/frm1789/Montecarlo-Python/blob/main/TimesSeries.ipynb\" target=\"_parent\"><img src=\"https://colab.research.google.com/assets/colab-badge.svg\" alt=\"Open In Colab\"/></a>"
      ]
    },
    {
      "cell_type": "markdown",
      "source": [
        "# Introduction: Time Series Analysis on Chicago Weather \n",
        "\n",
        "## Dataset\n",
        "\n",
        "The data come from the [NOAA](https://www.ncdc.noaa.gov/cdo-web/search), especifically the O'Hare airport station due to the integrity of its data.\n",
        "\n",
        "\n"
      ],
      "metadata": {
        "id": "W8YUPNd1XNp-"
      }
    },
    {
      "cell_type": "code",
      "execution_count": null,
      "metadata": {
        "id": "KebzmTOcW3F0"
      },
      "outputs": [],
      "source": []
    }
  ]
}